{
 "cells": [
  {
   "cell_type": "markdown",
   "id": "8135fdaa",
   "metadata": {},
   "source": [
    "# Test whether contamination as a categorical trait is unequally distributed across taxonomy using GTDB representatives\n",
    "\n",
    "Using methods developed by Borges et al. (2019) (https://doi.org/10.1093/bioinformatics/bty800; https://github.com/mrborges23/delta_statistic), estimate whether contamination as a categorical trait has a phylogenetic signal, where phylogeny is estimated from taxonomy. This method uses Shannon entropy and a $\\delta$ statistic to evaluate the degree of phylogenetic signal between a phylogeny and a categorical trait.\n",
    "\n",
    "The $\\delta$ value is higher when there is a higher degree of phylogenetic signal between a trait and a tree.\n",
    "\n",
    "GTDB provides a tree for representative sequences, so this analysis is limited to representative sequences.\n",
    "\n",
    "Naively, I would expect MAGs to have more contamination that isolate genomes, so I would expect contamination to be more strongly associated with branches of the tree that come exclusively from MAGs."
   ]
  },
  {
   "cell_type": "code",
   "execution_count": 2,
   "id": "9c173b24",
   "metadata": {},
   "outputs": [],
   "source": [
    "setwd(\"..\")"
   ]
  },
  {
   "cell_type": "code",
   "execution_count": 7,
   "id": "985d48d3",
   "metadata": {},
   "outputs": [
    {
     "name": "stderr",
     "output_type": "stream",
     "text": [
      "Updating HTML index of packages in '.Library'\n",
      "\n",
      "Making 'packages.html' ...\n",
      " done\n",
      "\n"
     ]
    }
   ],
   "source": [
    "install.packages(\"expm\") # no build in conda for installation in env, but will install from CRAN"
   ]
  },
  {
   "cell_type": "code",
   "execution_count": 13,
   "id": "f8ac58ff",
   "metadata": {},
   "outputs": [
    {
     "name": "stderr",
     "output_type": "stream",
     "text": [
      "\n",
      "Attaching package: ‘tidyr’\n",
      "\n",
      "\n",
      "The following objects are masked from ‘package:Matrix’:\n",
      "\n",
      "    expand, pack, unpack\n",
      "\n",
      "\n"
     ]
    }
   ],
   "source": [
    "library(ape)\n",
    "library(dplyr)\n",
    "library(stringr)\n",
    "library(readr)\n",
    "library(tidyr)\n",
    "source(\"scripts/delta_statistic.R\")"
   ]
  },
  {
   "cell_type": "markdown",
   "id": "44882bdc",
   "metadata": {},
   "source": [
    "## Read in GTDB metadata"
   ]
  },
  {
   "cell_type": "code",
   "execution_count": 14,
   "id": "d2ef5984",
   "metadata": {},
   "outputs": [
    {
     "name": "stderr",
     "output_type": "stream",
     "text": [
      "Warning message:\n",
      "“One or more parsing issues, see `problems()` for details”\n"
     ]
    }
   ],
   "source": [
    "gtdb_metadata <- read_tsv(\"inputs/gtdb/bac120_metadata_r202.tsv\", show_col_types = F) %>%\n",
    "  separate(gtdb_taxonomy, into = c(\"domain\", \"phylum\", \"class\", \"order\", \"family\", \"genus\", \"species\"), \n",
    "           sep = \";\") %>%\n",
    "  mutate(ncbi_database = ifelse(grepl(pattern = \"GB\", accession), \"GenBank\", \"none\"),\n",
    "         ncbi_database = ifelse(grepl(pattern = \"RS\", accession), \"RefSeq\", ncbi_database)) %>%\n",
    "  mutate(accession = gsub(\"GB_\", \"\", accession)) %>%\n",
    "  mutate(accession = gsub(\"RS_\", \"\", accession))"
   ]
  },
  {
   "cell_type": "markdown",
   "id": "431bfb2d",
   "metadata": {},
   "source": [
    "## Read in charcoal results and annotate gene accessions by contaminated or not"
   ]
  },
  {
   "cell_type": "code",
   "execution_count": 15,
   "id": "6f78f2aa",
   "metadata": {},
   "outputs": [],
   "source": [
    "charcoal <- read_csv(\"outputs/gtdb_rs202_charcoal1/stage1_hitlist.csv\", show_col_types = F)%>%\n",
    "  mutate(genome = gsub(\"_genomic.fna.gz\", \"\", genome))"
   ]
  },
  {
   "cell_type": "code",
   "execution_count": 16,
   "id": "d72597d7",
   "metadata": {},
   "outputs": [],
   "source": [
    "gtdb_metadata <- gtdb_metadata %>%\n",
    "  mutate(order_lineage = paste(sep = \";\", domain, phylum, class, order))\n",
    "\n",
    "combined <- left_join(charcoal, gtdb_metadata, by = c(\"genome\" = \"accession\")) %>%\n",
    "  mutate(lineages_match = ifelse(lineage == order_lineage, T, F),\n",
    "         charcoal_contamination_order = (order_bad_bp/genome_size)*100,\n",
    "         charcoal_contamination_family = (family_bad_bp/genome_size)*100,\n",
    "         charcoal_contamination_genus = (genus_bad_bp/genome_size)*100,\n",
    "         contaminated_at_filter_rank = ifelse(order_bad_bp > 0, T, F))"
   ]
  },
  {
   "cell_type": "markdown",
   "id": "624141d3",
   "metadata": {},
   "source": [
    "## Download trees and preprocess\n",
    "\n",
    "Note trees only contain representative sequences"
   ]
  },
  {
   "cell_type": "code",
   "execution_count": 18,
   "id": "d72d1202",
   "metadata": {},
   "outputs": [],
   "source": [
    "bac_tree_destfile <- \"inputs/gtdb/bac120_r202.tree\"\n",
    "url <- \"https://data.gtdb.ecogenomic.org/releases/release202/202.0/bac120_r202.tree\"\n",
    "if (!file.exists(bac_tree_destfile)) {\n",
    "  download.file(url, bac_tree_destfile, method=\"auto\") \n",
    "}\n",
    "gtdb_tree <- read.tree(bac_tree_destfile)"
   ]
  },
  {
   "cell_type": "code",
   "execution_count": 23,
   "id": "327ae200",
   "metadata": {},
   "outputs": [],
   "source": [
    "# drop tips from GTDB that haven't been decontaminated by charcoal yet. \n",
    "# this tree contains all GTDB species.\n",
    "drop_tips <- gtdb_tree$tip.label[!str_detect(gtdb_tree$tip.label, paste(combined$genome, collapse=\"|\"))]\n",
    "gtdb_tree <- drop.tip(gtdb_tree, drop_tips)\n",
    "# edit tip labels to remove GC/RS\n",
    "gtdb_tree$tip.label <- gsub(\"RS_\", \"\", gtdb_tree$tip.label) \n",
    "gtdb_tree$tip.label <- gsub(\"GB_\", \"\", gtdb_tree$tip.label) "
   ]
  },
  {
   "cell_type": "code",
   "execution_count": 28,
   "id": "e63b93f0",
   "metadata": {},
   "outputs": [
    {
     "data": {
      "text/html": [
       "TRUE"
      ],
      "text/latex": [
       "TRUE"
      ],
      "text/markdown": [
       "TRUE"
      ],
      "text/plain": [
       "[1] TRUE"
      ]
     },
     "metadata": {},
     "output_type": "display_data"
    }
   ],
   "source": [
    "# filter charcoal results to genomes that are included in the tree\n",
    "# then reorder charcoal results to match tip label order\n",
    "combined_filtered <- combined %>%\n",
    "  filter(genome %in% gtdb_tree$tip.label)\n",
    "\n",
    "combined_filtered <- combined_filtered[order(match(combined_filtered$genome, gtdb_tree$tip.label)), ]\n",
    "\n",
    "all.equal(combined_filtered$genome, gtdb_tree$tip.label)"
   ]
  },
  {
   "cell_type": "code",
   "execution_count": 30,
   "id": "8fc1c38a",
   "metadata": {},
   "outputs": [],
   "source": [
    "# garuntee that all branch lengths are positive in the tree\n",
    "gtdb_tree$edge.length[gtdb_tree$edge.length==0] <- quantile(gtdb_tree$edge.length,0.1)*0.1"
   ]
  },
  {
   "cell_type": "code",
   "execution_count": 31,
   "id": "a89175f6",
   "metadata": {},
   "outputs": [],
   "source": [
    "# calculate delta for contamination\n",
    "delta_contam <- delta(combined_filtered$contaminated_at_filter_rank, gtdb_tree,0.1,0.0589,10000,10,100)"
   ]
  },
  {
   "cell_type": "code",
   "execution_count": 33,
   "id": "af973522",
   "metadata": {},
   "outputs": [
    {
     "name": "stderr",
     "output_type": "stream",
     "text": [
      "Warning message in sqrt(diag(solve(h))):\n",
      "“NaNs produced”\n",
      "Warning message in sqrt(diag(solve(h))):\n",
      "“NaNs produced”\n",
      "Warning message in sqrt(diag(solve(h))):\n",
      "“NaNs produced”\n",
      "Warning message in sqrt(diag(solve(h))):\n",
      "“NaNs produced”\n",
      "Warning message in sqrt(diag(solve(h))):\n",
      "“NaNs produced”\n",
      "Warning message in sqrt(diag(solve(h))):\n",
      "“NaNs produced”\n",
      "Warning message in sqrt(diag(solve(h))):\n",
      "“NaNs produced”\n",
      "Warning message in sqrt(diag(solve(h))):\n",
      "“NaNs produced”\n",
      "Warning message in sqrt(diag(solve(h))):\n",
      "“NaNs produced”\n",
      "Warning message in sqrt(diag(solve(h))):\n",
      "“NaNs produced”\n",
      "Warning message in sqrt(diag(solve(h))):\n",
      "“NaNs produced”\n",
      "Warning message in sqrt(diag(solve(h))):\n",
      "“NaNs produced”\n",
      "Warning message in sqrt(diag(solve(h))):\n",
      "“NaNs produced”\n",
      "Warning message in sqrt(diag(solve(h))):\n",
      "“NaNs produced”\n",
      "Warning message in sqrt(diag(solve(h))):\n",
      "“NaNs produced”\n",
      "Warning message in sqrt(diag(solve(h))):\n",
      "“NaNs produced”\n",
      "Warning message in sqrt(diag(solve(h))):\n",
      "“NaNs produced”\n",
      "Warning message in sqrt(diag(solve(h))):\n",
      "“NaNs produced”\n",
      "Warning message in sqrt(diag(solve(h))):\n",
      "“NaNs produced”\n",
      "Warning message in sqrt(diag(solve(h))):\n",
      "“NaNs produced”\n",
      "Warning message in sqrt(diag(solve(h))):\n",
      "“NaNs produced”\n",
      "Warning message in sqrt(diag(solve(h))):\n",
      "“NaNs produced”\n",
      "Warning message in sqrt(diag(solve(h))):\n",
      "“NaNs produced”\n",
      "Warning message in sqrt(diag(solve(h))):\n",
      "“NaNs produced”\n",
      "Warning message in sqrt(diag(solve(h))):\n",
      "“NaNs produced”\n",
      "Warning message in sqrt(diag(solve(h))):\n",
      "“NaNs produced”\n",
      "Warning message in sqrt(diag(solve(h))):\n",
      "“NaNs produced”\n",
      "Warning message in sqrt(diag(solve(h))):\n",
      "“NaNs produced”\n",
      "Warning message in sqrt(diag(solve(h))):\n",
      "“NaNs produced”\n",
      "Warning message in sqrt(diag(solve(h))):\n",
      "“NaNs produced”\n",
      "Warning message in sqrt(diag(solve(h))):\n",
      "“NaNs produced”\n",
      "Warning message in sqrt(diag(solve(h))):\n",
      "“NaNs produced”\n",
      "Warning message in sqrt(diag(solve(h))):\n",
      "“NaNs produced”\n",
      "Warning message in sqrt(diag(solve(h))):\n",
      "“NaNs produced”\n",
      "Warning message in sqrt(diag(solve(h))):\n",
      "“NaNs produced”\n",
      "Warning message in sqrt(diag(solve(h))):\n",
      "“NaNs produced”\n",
      "Warning message in sqrt(diag(solve(h))):\n",
      "“NaNs produced”\n",
      "Warning message in sqrt(diag(solve(h))):\n",
      "“NaNs produced”\n",
      "Warning message in sqrt(diag(solve(h))):\n",
      "“NaNs produced”\n",
      "Warning message in sqrt(diag(solve(h))):\n",
      "“NaNs produced”\n",
      "Warning message in sqrt(diag(solve(h))):\n",
      "“NaNs produced”\n",
      "Warning message in sqrt(diag(solve(h))):\n",
      "“NaNs produced”\n",
      "Warning message in sqrt(diag(solve(h))):\n",
      "“NaNs produced”\n",
      "Warning message in sqrt(diag(solve(h))):\n",
      "“NaNs produced”\n",
      "Warning message in sqrt(diag(solve(h))):\n",
      "“NaNs produced”\n",
      "Warning message in sqrt(diag(solve(h))):\n",
      "“NaNs produced”\n",
      "Warning message in sqrt(diag(solve(h))):\n",
      "“NaNs produced”\n",
      "Warning message in sqrt(diag(solve(h))):\n",
      "“NaNs produced”\n",
      "Warning message in sqrt(diag(solve(h))):\n",
      "“NaNs produced”\n",
      "Warning message in sqrt(diag(solve(h))):\n",
      "“NaNs produced”\n",
      "Warning message in sqrt(diag(solve(h))):\n",
      "“NaNs produced”\n",
      "Warning message in sqrt(diag(solve(h))):\n",
      "“NaNs produced”\n",
      "Warning message in sqrt(diag(solve(h))):\n",
      "“NaNs produced”\n",
      "Warning message in sqrt(diag(solve(h))):\n",
      "“NaNs produced”\n",
      "Warning message in sqrt(diag(solve(h))):\n",
      "“NaNs produced”\n",
      "Warning message in sqrt(diag(solve(h))):\n",
      "“NaNs produced”\n",
      "Warning message in sqrt(diag(solve(h))):\n",
      "“NaNs produced”\n",
      "Warning message in sqrt(diag(solve(h))):\n",
      "“NaNs produced”\n",
      "Warning message in sqrt(diag(solve(h))):\n",
      "“NaNs produced”\n",
      "Warning message in sqrt(diag(solve(h))):\n",
      "“NaNs produced”\n"
     ]
    }
   ],
   "source": [
    "# calculate p value for delta\n",
    "# shuffle the trait vector using the function delta (for 100 iterates) \n",
    "# create a vector of random deltas that will work as our null hypothesis. \n",
    "# Then compute the probability p(random_delta>delta_contam) in the null distribution, which returns the p-value.\n",
    "\n",
    "random_delta <- rep(NA,100)\n",
    "for (i in 1:100){\n",
    "  rtrait <- sample(combined_filtered$contaminated_at_filter_rank)\n",
    "  random_delta[i] <- delta(rtrait, gtdb_tree,0.1,0.0589,10000,10,100)\n",
    "}\n",
    "p_value <- sum(random_delta > delta_contam) / length(random_delta)"
   ]
  },
  {
   "cell_type": "code",
   "execution_count": 34,
   "id": "4d7241f5",
   "metadata": {},
   "outputs": [
    {
     "data": {
      "image/png": "[encoded data removed]",
      "text/plain": [
       "plot without title"
      ]
     },
     "metadata": {
      "image/png": {
       "height": 420,
       "width": 420
      }
     },
     "output_type": "display_data"
    }
   ],
   "source": [
    "boxplot(random_delta)\n",
    "abline(h=delta_contam, col=\"red\")"
   ]
  },
  {
   "cell_type": "code",
   "execution_count": 35,
   "id": "98cac18d",
   "metadata": {},
   "outputs": [
    {
     "data": {
      "text/html": [
       "0.79"
      ],
      "text/latex": [
       "0.79"
      ],
      "text/markdown": [
       "0.79"
      ],
      "text/plain": [
       "[1] 0.79"
      ]
     },
     "metadata": {},
     "output_type": "display_data"
    }
   ],
   "source": [
    "p_value"
   ]
  },
  {
   "cell_type": "markdown",
   "id": "b8a9ff31",
   "metadata": {},
   "source": [
    "## Next steps\n",
    "\n",
    "+ Run on full GTDB\n",
    "+ Visualize? May not be worth viz since the GTDB tree will be so large"
   ]
  },
  {
   "cell_type": "code",
   "execution_count": null,
   "id": "3f5e35d7",
   "metadata": {},
   "outputs": [],
   "source": []
  }
 ],
 "metadata": {
  "kernelspec": {
   "display_name": "R",
   "language": "R",
   "name": "ir"
  },
  "language_info": {
   "codemirror_mode": "r",
   "file_extension": ".r",
   "mimetype": "text/x-r-source",
   "name": "R",
   "pygments_lexer": "r",
   "version": "4.0.5"
  }
 },
 "nbformat": 4,
 "nbformat_minor": 5
}
